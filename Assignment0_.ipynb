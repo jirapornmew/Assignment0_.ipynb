{
  "nbformat": 4,
  "nbformat_minor": 0,
  "metadata": {
    "colab": {
      "provenance": []
    },
    "kernelspec": {
      "name": "python3",
      "display_name": "Python 3"
    },
    "language_info": {
      "name": "python"
    }
  },
  "cells": [
    {
      "cell_type": "markdown",
      "source": [
        "# ข้อ 1."
      ],
      "metadata": {
        "id": "1lbAk_c1fgPm"
      }
    },
    {
      "cell_type": "code",
      "source": [
        "from collections import Counter"
      ],
      "metadata": {
        "id": "Duoa0_Tmfp6e"
      },
      "execution_count": 1,
      "outputs": []
    },
    {
      "cell_type": "code",
      "source": [
        "def count_runs(sequence):\n",
        "    counts = Counter()\n",
        "    current_run = 0\n",
        "\n",
        "    for outcome in sequence:\n",
        "        if outcome == 1:\n",
        "            current_run += 1\n",
        "        else:\n",
        "            if current_run > 0:\n",
        "                counts[current_run] += 1\n",
        "                current_run = 0\n",
        "\n",
        "    # ตรวจสอบว่าการรันล่าสุด延กไปจนถึงจุดสิ้นสุดของลำดับหรือไม่\n",
        "    if current_run > 0:\n",
        "        counts[current_run] += 1\n",
        "\n",
        "    return counts"
      ],
      "metadata": {
        "id": "nWv7KQ-nuYLs"
      },
      "execution_count": 2,
      "outputs": []
    },
    {
      "cell_type": "code",
      "source": [
        "# การใช้ตัวอย่าง:\n",
        "result = count_runs([0, 1, 0, 1, 1, 0, 0, 0, 0, 1])\n",
        "print(result)"
      ],
      "metadata": {
        "colab": {
          "base_uri": "https://localhost:8080/"
        },
        "id": "24NV0_Gducqz",
        "outputId": "d9557332-f6ed-472e-ab83-52630a3123ba"
      },
      "execution_count": 3,
      "outputs": [
        {
          "output_type": "stream",
          "name": "stdout",
          "text": [
            "Counter({1: 2, 2: 1})\n"
          ]
        }
      ]
    },
    {
      "cell_type": "code",
      "source": [
        "# ตัวอย่างกับลำดับที่สุ่ม\n",
        "import numpy as np\n",
        "result_random = count_runs(np.random.randint(0, 2, 1000000))\n",
        "print(result_random)"
      ],
      "metadata": {
        "colab": {
          "base_uri": "https://localhost:8080/"
        },
        "id": "HXQfoHydumgv",
        "outputId": "ce2bf3f9-7213-4960-e898-448726cde7d4"
      },
      "execution_count": 4,
      "outputs": [
        {
          "output_type": "stream",
          "name": "stdout",
          "text": [
            "Counter({1: 124850, 2: 62878, 3: 31085, 4: 15817, 5: 7753, 6: 3851, 7: 1953, 8: 973, 9: 452, 10: 217, 11: 130, 12: 63, 13: 30, 14: 14, 15: 10, 16: 2, 20: 1, 17: 1, 22: 1})\n"
          ]
        }
      ]
    },
    {
      "cell_type": "markdown",
      "source": [
        "# ข้อ 2."
      ],
      "metadata": {
        "id": "_uxrWGG6u0U_"
      }
    },
    {
      "cell_type": "code",
      "source": [
        "import numpy as np"
      ],
      "metadata": {
        "id": "BkKaEKulu3FN"
      },
      "execution_count": 5,
      "outputs": []
    },
    {
      "cell_type": "code",
      "source": [
        "def run_prob(expts, n, k, p):\n",
        "    count_success_5 = 0\n",
        "    count_success_7 = 0\n",
        "\n",
        "    for _ in range(expts):\n",
        "        sequence = np.random.binomial(1, p, n)\n",
        "        counts = count_runs(sequence)\n",
        "\n",
        "        if any(count >= k for count in counts):\n",
        "            count_success_5 += 1\n",
        "\n",
        "        if any(count >= 7 for count in counts):\n",
        "            count_success_7 += 1\n",
        "\n",
        "    probability_5 = count_success_5 / expts\n",
        "    probability_7 = count_success_7 / expts\n",
        "\n",
        "    return probability_5, probability_7"
      ],
      "metadata": {
        "id": "VeBGAofGvFa2"
      },
      "execution_count": 6,
      "outputs": []
    },
    {
      "cell_type": "code",
      "source": [
        "# Example usage:\n",
        "result_5, result_7 = run_prob(expts=100000, n=100, k=5, p=0.5)\n",
        "print(result_5)\n",
        "print(result_7)"
      ],
      "metadata": {
        "colab": {
          "base_uri": "https://localhost:8080/"
        },
        "id": "pVmMXql3vT3c",
        "outputId": "772b1176-0916-4243-91d0-a4d1661dbe6c"
      },
      "execution_count": 7,
      "outputs": [
        {
          "output_type": "stream",
          "name": "stdout",
          "text": [
            "0.81165\n",
            "0.31868\n"
          ]
        }
      ]
    },
    {
      "cell_type": "code",
      "source": [
        "run_prob(expts=100000, n=100, k=5, p=0.5)\n",
        "run_prob(expts=100000, n=100, k=7, p=0.7)"
      ],
      "metadata": {
        "colab": {
          "base_uri": "https://localhost:8080/"
        },
        "id": "60sZXYtgvXhK",
        "outputId": "b34ea4a0-a57d-447b-f05f-9c6d4dec646a"
      },
      "execution_count": 8,
      "outputs": [
        {
          "output_type": "execute_result",
          "data": {
            "text/plain": [
              "(0.94839, 0.94839)"
            ]
          },
          "metadata": {},
          "execution_count": 8
        }
      ]
    }
  ]
}